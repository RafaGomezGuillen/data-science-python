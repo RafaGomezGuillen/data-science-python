{
 "cells": [
  {
   "cell_type": "markdown",
   "metadata": {},
   "source": [
    "# Scraping Data from spbuir.pl\n",
    "\n",
    "Getting the data and importing libraries"
   ]
  },
  {
   "cell_type": "code",
   "execution_count": 1,
   "metadata": {},
   "outputs": [],
   "source": [
    "import requests\n",
    "import pandas as pd\n",
    "\n",
    "from bs4 import BeautifulSoup\n",
    "\n",
    "url = \"https://spbuir.pl/lista-brokerow\"\n",
    "response = requests.get(url)\n",
    "soup = BeautifulSoup(response.text, 'html.parser')\n",
    "\n",
    "# Data frame \n",
    "cols = ['name', 'company', 'city', 'email', 'phone', 'cell_phone']\n",
    "data_frame = pd.DataFrame(columns=cols)\n",
    "\n",
    "# Table\n",
    "table = soup.select('#lista_brokerow')[0]"
   ]
  },
  {
   "cell_type": "markdown",
   "metadata": {},
   "source": [
    "## Getting data (name, company, city)"
   ]
  },
  {
   "cell_type": "code",
   "execution_count": 2,
   "metadata": {},
   "outputs": [],
   "source": [
    "# Rows\n",
    "column_data = table.find_all('tr')\n",
    "\n",
    "# Looping all rows except the first one\n",
    "for row in column_data[1:]:\n",
    "  row_data = row.find_all('td')\n",
    "  individual_row_data = [data.text.strip() for data in row_data]\n",
    "\n",
    "  # Cleaning first column '1. \\xa0\\xa0Katarzyna Abramczuk'\n",
    "  if individual_row_data:\n",
    "        individual_row_data[0] = individual_row_data[0][5:].strip()\n",
    "\n",
    "  data_frame.loc[len(data_frame)] = {'name': individual_row_data[0],\n",
    "                                     'company': individual_row_data[1],\n",
    "                                     'city': individual_row_data[2]}\n",
    "  "
   ]
  },
  {
   "cell_type": "markdown",
   "metadata": {},
   "source": [
    "## Getting data (email, phone, cell_phone)"
   ]
  },
  {
   "cell_type": "code",
   "execution_count": 3,
   "metadata": {},
   "outputs": [
    {
     "name": "stderr",
     "output_type": "stream",
     "text": [
      "C:\\Users\\gomez\\AppData\\Local\\Temp\\ipykernel_10488\\3072868.py:31: FutureWarning: Setting an item of incompatible dtype is deprecated and will raise in a future error of pandas. Value 'broker@abramczuk.pl' has dtype incompatible with float64, please explicitly cast to a compatible dtype first.\n",
      "  data_frame.loc[index, ['email', 'phone', 'cell_phone']] = [email, phone, cell_phone]\n",
      "C:\\Users\\gomez\\AppData\\Local\\Temp\\ipykernel_10488\\3072868.py:31: FutureWarning: Setting an item of incompatible dtype is deprecated and will raise in a future error of pandas. Value 'Telefon: 83 344 22 44' has dtype incompatible with float64, please explicitly cast to a compatible dtype first.\n",
      "  data_frame.loc[index, ['email', 'phone', 'cell_phone']] = [email, phone, cell_phone]\n",
      "C:\\Users\\gomez\\AppData\\Local\\Temp\\ipykernel_10488\\3072868.py:31: FutureWarning: Setting an item of incompatible dtype is deprecated and will raise in a future error of pandas. Value 'Telefon komórkowy: 504102142' has dtype incompatible with float64, please explicitly cast to a compatible dtype first.\n",
      "  data_frame.loc[index, ['email', 'phone', 'cell_phone']] = [email, phone, cell_phone]\n"
     ]
    }
   ],
   "source": [
    "# Initialize an index for the DataFrame\n",
    "index = 0\n",
    "\n",
    "# Looping all rows except the first one\n",
    "for row in column_data[1:]:\n",
    "    # Getting the link for more details\n",
    "    details_link = row.find('a')['href']\n",
    "\n",
    "    # Now, you can use requests to get information from the details page\n",
    "    details_response = requests.get(details_link)\n",
    "    details_soup = BeautifulSoup(details_response.text, 'html.parser')\n",
    "\n",
    "    # Acceding all p tags\n",
    "    p_tags = details_soup.find_all('p')\n",
    "\n",
    "    # Access the fourth p tag\n",
    "    fourth_p_tag = p_tags[3]\n",
    "\n",
    "    # Extract text from the p tag\n",
    "    p_text = fourth_p_tag.get_text(separator=\"\\n\")\n",
    "\n",
    "    # Split the text into lines\n",
    "    lines = p_text.split(\"\\n\")\n",
    "\n",
    "    # Extract email, phone, and cell phone from the lines\n",
    "    email = lines[2]\n",
    "    phone = lines[3]\n",
    "    cell_phone = lines[-1]\n",
    "\n",
    "    # Add to DataFrame\n",
    "    data_frame.loc[index, ['email', 'phone', 'cell_phone']] = [email, phone, cell_phone]\n",
    "    \n",
    "    # Increment the index\n",
    "    index += 1\n"
   ]
  },
  {
   "cell_type": "markdown",
   "metadata": {},
   "source": [
    "## Cleaning data"
   ]
  },
  {
   "cell_type": "code",
   "execution_count": 4,
   "metadata": {},
   "outputs": [],
   "source": [
    "data_frame['phone'] = data_frame['phone'].str.replace('Telefon: ', '')\n",
    "data_frame['cell_phone'] = data_frame['cell_phone'].str.replace('Telefon komórkowy: ', '')"
   ]
  },
  {
   "cell_type": "markdown",
   "metadata": {},
   "source": [
    "## Exporting data"
   ]
  },
  {
   "cell_type": "code",
   "execution_count": 5,
   "metadata": {},
   "outputs": [],
   "source": [
    "file_name = 'output.csv'\n",
    "data_frame.to_csv(file_name, index=False, sep=';')"
   ]
  }
 ],
 "metadata": {
  "kernelspec": {
   "display_name": "base",
   "language": "python",
   "name": "python3"
  },
  "language_info": {
   "codemirror_mode": {
    "name": "ipython",
    "version": 3
   },
   "file_extension": ".py",
   "mimetype": "text/x-python",
   "name": "python",
   "nbconvert_exporter": "python",
   "pygments_lexer": "ipython3",
   "version": "3.11.5"
  }
 },
 "nbformat": 4,
 "nbformat_minor": 2
}

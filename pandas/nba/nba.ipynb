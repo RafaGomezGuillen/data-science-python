{
 "cells": [
  {
   "cell_type": "markdown",
   "metadata": {},
   "source": [
    "# Birthday problem probability"
   ]
  },
  {
   "cell_type": "code",
   "execution_count": 1,
   "metadata": {},
   "outputs": [],
   "source": [
    "import pandas as pd\n",
    "from itertools import combinations\n",
    "\n",
    "df = pd.read_csv(\"nba_data.csv\", parse_dates=[\"Birthdate\"])\n",
    "data_frame = df[[\"Name\", \"Pos\", \"Age\", \"Collage\", \"Birthdate\"]]"
   ]
  },
  {
   "cell_type": "markdown",
   "metadata": {},
   "source": [
    "Create the column birthday in `data_frame`"
   ]
  },
  {
   "cell_type": "code",
   "execution_count": 2,
   "metadata": {},
   "outputs": [
    {
     "name": "stderr",
     "output_type": "stream",
     "text": [
      "C:\\Users\\Rafael Gómez\\AppData\\Local\\Temp\\ipykernel_5868\\2443405999.py:1: SettingWithCopyWarning: \n",
      "A value is trying to be set on a copy of a slice from a DataFrame.\n",
      "Try using .loc[row_indexer,col_indexer] = value instead\n",
      "\n",
      "See the caveats in the documentation: https://pandas.pydata.org/pandas-docs/stable/user_guide/indexing.html#returning-a-view-versus-a-copy\n",
      "  data_frame[\"Birthday\"] = data_frame[\"Birthdate\"].dt.strftime('%m-%d')\n"
     ]
    }
   ],
   "source": [
    "data_frame[\"Birthday\"] = data_frame[\"Birthdate\"].dt.strftime('%m-%d')"
   ]
  },
  {
   "cell_type": "markdown",
   "metadata": {},
   "source": [
    "How many pairs of players share a birthday for the `University of Kentucky`?"
   ]
  },
  {
   "cell_type": "code",
   "execution_count": 3,
   "metadata": {},
   "outputs": [
    {
     "data": {
      "text/html": [
       "<div>\n",
       "<style scoped>\n",
       "    .dataframe tbody tr th:only-of-type {\n",
       "        vertical-align: middle;\n",
       "    }\n",
       "\n",
       "    .dataframe tbody tr th {\n",
       "        vertical-align: top;\n",
       "    }\n",
       "\n",
       "    .dataframe thead th {\n",
       "        text-align: right;\n",
       "    }\n",
       "</style>\n",
       "<table border=\"1\" class=\"dataframe\">\n",
       "  <thead>\n",
       "    <tr style=\"text-align: right;\">\n",
       "      <th></th>\n",
       "      <th>Person 1</th>\n",
       "      <th>Person 2</th>\n",
       "      <th>Birthday 1</th>\n",
       "      <th>Birthday 2</th>\n",
       "    </tr>\n",
       "  </thead>\n",
       "  <tbody>\n",
       "    <tr>\n",
       "      <th>99</th>\n",
       "      <td>Ty Lawson</td>\n",
       "      <td>Tyler Hansbrough</td>\n",
       "      <td>11-03</td>\n",
       "      <td>11-03</td>\n",
       "    </tr>\n",
       "  </tbody>\n",
       "</table>\n",
       "</div>"
      ],
      "text/plain": [
       "     Person 1          Person 2 Birthday 1 Birthday 2\n",
       "99  Ty Lawson  Tyler Hansbrough      11-03      11-03"
      ]
     },
     "execution_count": 3,
     "metadata": {},
     "output_type": "execute_result"
    }
   ],
   "source": [
    "def count_shared_birthday(collage):\n",
    "  names_df = pd.DataFrame (\n",
    "    list(combinations(data_frame[\"Name\"].loc[data_frame[\"Collage\"] == collage], 2)), \n",
    "    columns=[\"Person 1\", \"Person 2\"]\n",
    "  )\n",
    "  \n",
    "  birthday_df = pd.DataFrame (\n",
    "    list(combinations(data_frame[\"Birthday\"].loc[data_frame[\"Collage\"] == collage], 2)), \n",
    "    columns=[\"Birthday 1\", \"Birthday 2\"]\n",
    "  )\n",
    "  \n",
    "  return pd.concat([names_df, birthday_df], axis=1)\n",
    "\n",
    "university = count_shared_birthday(\"University of North Carolina\")\n",
    "\n",
    "university.loc[university[\"Birthday 1\"] == university[\"Birthday 2\"]]"
   ]
  }
 ],
 "metadata": {
  "kernelspec": {
   "display_name": "myenv",
   "language": "python",
   "name": "python3"
  },
  "language_info": {
   "codemirror_mode": {
    "name": "ipython",
    "version": 3
   },
   "file_extension": ".py",
   "mimetype": "text/x-python",
   "name": "python",
   "nbconvert_exporter": "python",
   "pygments_lexer": "ipython3",
   "version": "3.11.6"
  }
 },
 "nbformat": 4,
 "nbformat_minor": 2
}

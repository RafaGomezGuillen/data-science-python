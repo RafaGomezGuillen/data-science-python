{
 "cells": [
  {
   "cell_type": "markdown",
   "metadata": {},
   "source": [
    "# Dataframe cleaning"
   ]
  },
  {
   "cell_type": "code",
   "execution_count": 14,
   "metadata": {},
   "outputs": [
    {
     "data": {
      "text/html": [
       "<div>\n",
       "<style scoped>\n",
       "    .dataframe tbody tr th:only-of-type {\n",
       "        vertical-align: middle;\n",
       "    }\n",
       "\n",
       "    .dataframe tbody tr th {\n",
       "        vertical-align: top;\n",
       "    }\n",
       "\n",
       "    .dataframe thead th {\n",
       "        text-align: right;\n",
       "    }\n",
       "</style>\n",
       "<table border=\"1\" class=\"dataframe\">\n",
       "  <thead>\n",
       "    <tr style=\"text-align: right;\">\n",
       "      <th></th>\n",
       "      <th>App</th>\n",
       "      <th>Category</th>\n",
       "      <th>Rating</th>\n",
       "      <th>Reviews</th>\n",
       "      <th>Size</th>\n",
       "      <th>Installs</th>\n",
       "      <th>Type</th>\n",
       "      <th>Price</th>\n",
       "      <th>Content Rating</th>\n",
       "      <th>Genres</th>\n",
       "      <th>Last Updated</th>\n",
       "      <th>Current Ver</th>\n",
       "      <th>Android Ver</th>\n",
       "    </tr>\n",
       "  </thead>\n",
       "  <tbody>\n",
       "    <tr>\n",
       "      <th>4439</th>\n",
       "      <td>Band O'Clock</td>\n",
       "      <td>LIFESTYLE</td>\n",
       "      <td>3.8</td>\n",
       "      <td>1140</td>\n",
       "      <td>746k</td>\n",
       "      <td>100,000+</td>\n",
       "      <td>Free</td>\n",
       "      <td>0</td>\n",
       "      <td>Everyone</td>\n",
       "      <td>Lifestyle</td>\n",
       "      <td>December 3, 2011</td>\n",
       "      <td>0.11</td>\n",
       "      <td>2.1 and up</td>\n",
       "    </tr>\n",
       "    <tr>\n",
       "      <th>10754</th>\n",
       "      <td>SCM FPS Status</td>\n",
       "      <td>BUSINESS</td>\n",
       "      <td>4.2</td>\n",
       "      <td>123</td>\n",
       "      <td>3.3M</td>\n",
       "      <td>10,000+</td>\n",
       "      <td>Free</td>\n",
       "      <td>0</td>\n",
       "      <td>Everyone</td>\n",
       "      <td>Business</td>\n",
       "      <td>April 28, 2018</td>\n",
       "      <td>3.5</td>\n",
       "      <td>2.3 and up</td>\n",
       "    </tr>\n",
       "    <tr>\n",
       "      <th>1714</th>\n",
       "      <td>Wordscapes</td>\n",
       "      <td>GAME</td>\n",
       "      <td>4.8</td>\n",
       "      <td>230710</td>\n",
       "      <td>87M</td>\n",
       "      <td>10,000,000+</td>\n",
       "      <td>Free</td>\n",
       "      <td>0</td>\n",
       "      <td>Everyone</td>\n",
       "      <td>Word</td>\n",
       "      <td>August 2, 2018</td>\n",
       "      <td>1.0.47</td>\n",
       "      <td>4.1 and up</td>\n",
       "    </tr>\n",
       "  </tbody>\n",
       "</table>\n",
       "</div>"
      ],
      "text/plain": [
       "                  App   Category  Rating Reviews  Size     Installs  Type  \\\n",
       "4439     Band O'Clock  LIFESTYLE     3.8    1140  746k     100,000+  Free   \n",
       "10754  SCM FPS Status   BUSINESS     4.2     123  3.3M      10,000+  Free   \n",
       "1714       Wordscapes       GAME     4.8  230710   87M  10,000,000+  Free   \n",
       "\n",
       "      Price Content Rating     Genres      Last Updated Current Ver  \\\n",
       "4439      0       Everyone  Lifestyle  December 3, 2011        0.11   \n",
       "10754     0       Everyone   Business    April 28, 2018         3.5   \n",
       "1714      0       Everyone       Word    August 2, 2018      1.0.47   \n",
       "\n",
       "      Android Ver  \n",
       "4439   2.1 and up  \n",
       "10754  2.3 and up  \n",
       "1714   4.1 and up  "
      ]
     },
     "execution_count": 14,
     "metadata": {},
     "output_type": "execute_result"
    }
   ],
   "source": [
    "import pandas as pd\n",
    "data_frame = pd.read_csv(\"googleplaystore.csv\")\n",
    "data_frame.sample(3)"
   ]
  },
  {
   "cell_type": "markdown",
   "metadata": {},
   "source": [
    "Which of the following column(s) has/have null values?"
   ]
  },
  {
   "cell_type": "code",
   "execution_count": 15,
   "metadata": {},
   "outputs": [
    {
     "data": {
      "text/plain": [
       "App                  0\n",
       "Category             0\n",
       "Rating            1474\n",
       "Reviews              0\n",
       "Size                 0\n",
       "Installs             0\n",
       "Type                 1\n",
       "Price                0\n",
       "Content Rating       1\n",
       "Genres               0\n",
       "Last Updated         0\n",
       "Current Ver          8\n",
       "Android Ver          3\n",
       "dtype: int64"
      ]
     },
     "execution_count": 15,
     "metadata": {},
     "output_type": "execute_result"
    }
   ],
   "source": [
    "data_frame.isna().sum()"
   ]
  },
  {
   "cell_type": "markdown",
   "metadata": {},
   "source": [
    "Clean the `Rating` column and the other columns containing null values and greater than 5"
   ]
  },
  {
   "cell_type": "code",
   "execution_count": 16,
   "metadata": {},
   "outputs": [
    {
     "data": {
      "text/plain": [
       "0"
      ]
     },
     "execution_count": 16,
     "metadata": {},
     "output_type": "execute_result"
    }
   ],
   "source": [
    "data_frame = data_frame.loc[data_frame[\"Rating\"] <= 5]\n",
    "(data_frame[\"Rating\"].isna().sum() & (data_frame[\"Rating\"] > 5).sum())"
   ]
  },
  {
   "cell_type": "markdown",
   "metadata": {},
   "source": [
    "Convert a column to numeric pd.to_..."
   ]
  },
  {
   "cell_type": "code",
   "execution_count": 17,
   "metadata": {},
   "outputs": [],
   "source": [
    "data_frame[\"Reviews\"] = pd.to_numeric(data_frame[\"Reviews\"])"
   ]
  },
  {
   "cell_type": "markdown",
   "metadata": {},
   "source": [
    "How many duplicated apps are there?"
   ]
  },
  {
   "cell_type": "code",
   "execution_count": 18,
   "metadata": {},
   "outputs": [
    {
     "data": {
      "text/plain": [
       "False    7407\n",
       "True     1959\n",
       "Name: count, dtype: int64"
      ]
     },
     "execution_count": 18,
     "metadata": {},
     "output_type": "execute_result"
    }
   ],
   "source": [
    "data_frame.loc[\n",
    "  (data_frame.duplicated(subset=[\"App\"], keep=False)) &\n",
    "  (~data_frame.duplicated(keep=False)) # Duplicated by App column but different in other columns\n",
    "].sort_values(by=\"App\", ascending=True)\n",
    "\n",
    "\n",
    "(data_frame.duplicated(subset=[\"App\"], keep=False)).value_counts()"
   ]
  },
  {
   "cell_type": "markdown",
   "metadata": {},
   "source": [
    "Drop duplicated apps kepping the ones with the greatest number of reviews"
   ]
  },
  {
   "cell_type": "code",
   "execution_count": 19,
   "metadata": {},
   "outputs": [],
   "source": [
    "# subset: column\n",
    "# keep: determine the column to keep\n",
    "# inplace: if true modify de data frame instead of creating a new one\n",
    "data_frame.drop_duplicates(subset=[\"App\"], keep=\"last\", inplace=True) "
   ]
  },
  {
   "cell_type": "markdown",
   "metadata": {},
   "source": [
    "Modify the Category column by replacing \"_\" with white spaces and capitalize it"
   ]
  },
  {
   "cell_type": "code",
   "execution_count": 20,
   "metadata": {},
   "outputs": [],
   "source": [
    "data_frame[\"Category\"] = data_frame[\"Category\"].str.replace(\"_\", \" \")\n",
    "data_frame[\"Category\"] = data_frame[\"Category\"].str.capitalize()"
   ]
  },
  {
   "cell_type": "markdown",
   "metadata": {},
   "source": [
    "Clean and convert the `Installs` column by replacing '+', ',' and convert it to numeric"
   ]
  },
  {
   "cell_type": "code",
   "execution_count": 23,
   "metadata": {},
   "outputs": [
    {
     "name": "stdout",
     "output_type": "stream",
     "text": [
      "<class 'pandas.core.frame.DataFrame'>\n",
      "Index: 8196 entries, 0 to 10840\n",
      "Data columns (total 13 columns):\n",
      " #   Column          Non-Null Count  Dtype  \n",
      "---  ------          --------------  -----  \n",
      " 0   App             8196 non-null   object \n",
      " 1   Category        8196 non-null   object \n",
      " 2   Rating          8196 non-null   float64\n",
      " 3   Reviews         8196 non-null   int64  \n",
      " 4   Size            8196 non-null   object \n",
      " 5   Installs        8196 non-null   int64  \n",
      " 6   Type            8196 non-null   object \n",
      " 7   Price           8196 non-null   object \n",
      " 8   Content Rating  8196 non-null   object \n",
      " 9   Genres          8196 non-null   object \n",
      " 10  Last Updated    8196 non-null   object \n",
      " 11  Current Ver     8192 non-null   object \n",
      " 12  Android Ver     8194 non-null   object \n",
      "dtypes: float64(1), int64(2), object(10)\n",
      "memory usage: 896.4+ KB\n"
     ]
    }
   ],
   "source": [
    "data_frame[\"Installs\"] = data_frame[\"Installs\"].str.replace(\",\", \"\").str.replace(\"+\", \"\")\n",
    "data_frame[\"Installs\"] = pd.to_numeric(data_frame[\"Installs\"])"
   ]
  },
  {
   "cell_type": "markdown",
   "metadata": {},
   "source": [
    "Clean the `Size` column by replacing 'k', 'M' and 'Varies with device' and convert it to numeric"
   ]
  },
  {
   "cell_type": "code",
   "execution_count": 72,
   "metadata": {},
   "outputs": [
    {
     "name": "stdout",
     "output_type": "stream",
     "text": [
      "<class 'pandas.core.frame.DataFrame'>\n",
      "Index: 8196 entries, 0 to 10840\n",
      "Data columns (total 13 columns):\n",
      " #   Column          Non-Null Count  Dtype  \n",
      "---  ------          --------------  -----  \n",
      " 0   App             8196 non-null   object \n",
      " 1   Category        8196 non-null   object \n",
      " 2   Rating          8196 non-null   float64\n",
      " 3   Reviews         8196 non-null   int64  \n",
      " 4   Size            8196 non-null   float64\n",
      " 5   Installs        8196 non-null   int64  \n",
      " 6   Type            8196 non-null   object \n",
      " 7   Price           8196 non-null   object \n",
      " 8   Content Rating  8196 non-null   object \n",
      " 9   Genres          8196 non-null   object \n",
      " 10  Last Updated    8196 non-null   object \n",
      " 11  Current Ver     8192 non-null   object \n",
      " 12  Android Ver     8194 non-null   object \n",
      "dtypes: float64(2), int64(2), object(9)\n",
      "memory usage: 896.4+ KB\n"
     ]
    }
   ],
   "source": [
    "\n",
    "data_frame.loc[data_frame[\"Size\"] == \"Varies with device\", \"Size\"] = \"0\"\n",
    "\n",
    "data_frame.loc[data_frame[\"Size\"].str.contains(\"k\"), \"Size\"] = (\n",
    "  pd.to_numeric(\n",
    "  data_frame.loc[data_frame[\"Size\"].str.contains(\"k\"), \"Size\"].str.replace(\"k\", \"\")\n",
    ") * 1024).astype(str)\n",
    "\n",
    "data_frame.loc[data_frame[\"Size\"].str.contains(\"M\"), \"Size\"] = (\n",
    "  pd.to_numeric(\n",
    "  data_frame.loc[data_frame[\"Size\"].str.contains(\"M\"), \"Size\"].str.replace(\"M\", \"\")\n",
    ") * (1024 * 1024)).astype(str)"
   ]
  },
  {
   "cell_type": "markdown",
   "metadata": {},
   "source": [
    "Clean the `Price` column by replacing the '$' character"
   ]
  },
  {
   "cell_type": "code",
   "execution_count": 79,
   "metadata": {},
   "outputs": [],
   "source": [
    "data_frame[\"Price\"] = data_frame[\"Price\"].str.replace(\"$\", \"\")\n",
    "data_frame[\"Price\"] = pd.to_numeric(data_frame[\"Price\"])"
   ]
  },
  {
   "cell_type": "markdown",
   "metadata": {},
   "source": [
    "Create a column called `Distribution` depending if the app is free or not"
   ]
  },
  {
   "cell_type": "code",
   "execution_count": 91,
   "metadata": {},
   "outputs": [
    {
     "data": {
      "text/html": [
       "<div>\n",
       "<style scoped>\n",
       "    .dataframe tbody tr th:only-of-type {\n",
       "        vertical-align: middle;\n",
       "    }\n",
       "\n",
       "    .dataframe tbody tr th {\n",
       "        vertical-align: top;\n",
       "    }\n",
       "\n",
       "    .dataframe thead th {\n",
       "        text-align: right;\n",
       "    }\n",
       "</style>\n",
       "<table border=\"1\" class=\"dataframe\">\n",
       "  <thead>\n",
       "    <tr style=\"text-align: right;\">\n",
       "      <th></th>\n",
       "      <th>App</th>\n",
       "      <th>Category</th>\n",
       "      <th>Rating</th>\n",
       "      <th>Reviews</th>\n",
       "      <th>Size</th>\n",
       "      <th>Installs</th>\n",
       "      <th>Type</th>\n",
       "      <th>Price</th>\n",
       "      <th>Content Rating</th>\n",
       "      <th>Genres</th>\n",
       "      <th>Last Updated</th>\n",
       "      <th>Current Ver</th>\n",
       "      <th>Android Ver</th>\n",
       "      <th>Distribution</th>\n",
       "    </tr>\n",
       "  </thead>\n",
       "  <tbody>\n",
       "    <tr>\n",
       "      <th>290</th>\n",
       "      <td>TurboScan: scan documents and receipts in PDF</td>\n",
       "      <td>Business</td>\n",
       "      <td>4.7</td>\n",
       "      <td>11442</td>\n",
       "      <td>7130316.8</td>\n",
       "      <td>100000</td>\n",
       "      <td>Paid</td>\n",
       "      <td>4.99</td>\n",
       "      <td>Everyone</td>\n",
       "      <td>Business</td>\n",
       "      <td>March 25, 2018</td>\n",
       "      <td>1.5.2</td>\n",
       "      <td>4.0 and up</td>\n",
       "      <td>Paid</td>\n",
       "    </tr>\n",
       "    <tr>\n",
       "      <th>291</th>\n",
       "      <td>Tiny Scanner Pro: PDF Doc Scan</td>\n",
       "      <td>Business</td>\n",
       "      <td>4.8</td>\n",
       "      <td>10295</td>\n",
       "      <td>40894464.0</td>\n",
       "      <td>100000</td>\n",
       "      <td>Paid</td>\n",
       "      <td>4.99</td>\n",
       "      <td>Everyone</td>\n",
       "      <td>Business</td>\n",
       "      <td>April 11, 2017</td>\n",
       "      <td>3.4.6</td>\n",
       "      <td>3.0 and up</td>\n",
       "      <td>Paid</td>\n",
       "    </tr>\n",
       "    <tr>\n",
       "      <th>427</th>\n",
       "      <td>Puffin Browser Pro</td>\n",
       "      <td>Communication</td>\n",
       "      <td>4.0</td>\n",
       "      <td>18247</td>\n",
       "      <td>0.0</td>\n",
       "      <td>100000</td>\n",
       "      <td>Paid</td>\n",
       "      <td>3.99</td>\n",
       "      <td>Everyone</td>\n",
       "      <td>Communication</td>\n",
       "      <td>July 5, 2018</td>\n",
       "      <td>7.5.3.20547</td>\n",
       "      <td>4.1 and up</td>\n",
       "      <td>Paid</td>\n",
       "    </tr>\n",
       "    <tr>\n",
       "      <th>481</th>\n",
       "      <td>AMBW Dating App: Asian Men Black Women Interra...</td>\n",
       "      <td>Dating</td>\n",
       "      <td>3.5</td>\n",
       "      <td>2</td>\n",
       "      <td>17825792.0</td>\n",
       "      <td>100</td>\n",
       "      <td>Paid</td>\n",
       "      <td>7.99</td>\n",
       "      <td>Mature 17+</td>\n",
       "      <td>Dating</td>\n",
       "      <td>January 21, 2017</td>\n",
       "      <td>1.0.1</td>\n",
       "      <td>4.0 and up</td>\n",
       "      <td>Paid</td>\n",
       "    </tr>\n",
       "    <tr>\n",
       "      <th>571</th>\n",
       "      <td>Moco+ - Chat, Meet People</td>\n",
       "      <td>Dating</td>\n",
       "      <td>4.2</td>\n",
       "      <td>1546</td>\n",
       "      <td>0.0</td>\n",
       "      <td>10000</td>\n",
       "      <td>Paid</td>\n",
       "      <td>3.99</td>\n",
       "      <td>Mature 17+</td>\n",
       "      <td>Dating</td>\n",
       "      <td>June 19, 2018</td>\n",
       "      <td>2.6.139</td>\n",
       "      <td>4.1 and up</td>\n",
       "      <td>Paid</td>\n",
       "    </tr>\n",
       "    <tr>\n",
       "      <th>...</th>\n",
       "      <td>...</td>\n",
       "      <td>...</td>\n",
       "      <td>...</td>\n",
       "      <td>...</td>\n",
       "      <td>...</td>\n",
       "      <td>...</td>\n",
       "      <td>...</td>\n",
       "      <td>...</td>\n",
       "      <td>...</td>\n",
       "      <td>...</td>\n",
       "      <td>...</td>\n",
       "      <td>...</td>\n",
       "      <td>...</td>\n",
       "      <td>...</td>\n",
       "    </tr>\n",
       "    <tr>\n",
       "      <th>10690</th>\n",
       "      <td>FO Bixby</td>\n",
       "      <td>Personalization</td>\n",
       "      <td>5.0</td>\n",
       "      <td>5</td>\n",
       "      <td>881664.0</td>\n",
       "      <td>100</td>\n",
       "      <td>Paid</td>\n",
       "      <td>0.99</td>\n",
       "      <td>Everyone</td>\n",
       "      <td>Personalization</td>\n",
       "      <td>April 25, 2018</td>\n",
       "      <td>0.2</td>\n",
       "      <td>7.0 and up</td>\n",
       "      <td>Paid</td>\n",
       "    </tr>\n",
       "    <tr>\n",
       "      <th>10697</th>\n",
       "      <td>Mu.F.O.</td>\n",
       "      <td>Game</td>\n",
       "      <td>5.0</td>\n",
       "      <td>2</td>\n",
       "      <td>16777216.0</td>\n",
       "      <td>1</td>\n",
       "      <td>Paid</td>\n",
       "      <td>0.99</td>\n",
       "      <td>Everyone</td>\n",
       "      <td>Arcade</td>\n",
       "      <td>March 3, 2017</td>\n",
       "      <td>1.0</td>\n",
       "      <td>2.3 and up</td>\n",
       "      <td>Paid</td>\n",
       "    </tr>\n",
       "    <tr>\n",
       "      <th>10760</th>\n",
       "      <td>Fast Tract Diet</td>\n",
       "      <td>Health and fitness</td>\n",
       "      <td>4.4</td>\n",
       "      <td>35</td>\n",
       "      <td>2516582.4</td>\n",
       "      <td>1000</td>\n",
       "      <td>Paid</td>\n",
       "      <td>7.99</td>\n",
       "      <td>Everyone</td>\n",
       "      <td>Health &amp; Fitness</td>\n",
       "      <td>August 8, 2018</td>\n",
       "      <td>1.9.3</td>\n",
       "      <td>4.2 and up</td>\n",
       "      <td>Paid</td>\n",
       "    </tr>\n",
       "    <tr>\n",
       "      <th>10782</th>\n",
       "      <td>Trine 2: Complete Story</td>\n",
       "      <td>Game</td>\n",
       "      <td>3.8</td>\n",
       "      <td>252</td>\n",
       "      <td>11534336.0</td>\n",
       "      <td>10000</td>\n",
       "      <td>Paid</td>\n",
       "      <td>16.99</td>\n",
       "      <td>Teen</td>\n",
       "      <td>Action</td>\n",
       "      <td>February 27, 2015</td>\n",
       "      <td>2.22</td>\n",
       "      <td>5.0 and up</td>\n",
       "      <td>Paid</td>\n",
       "    </tr>\n",
       "    <tr>\n",
       "      <th>10785</th>\n",
       "      <td>sugar, sugar</td>\n",
       "      <td>Family</td>\n",
       "      <td>4.2</td>\n",
       "      <td>1405</td>\n",
       "      <td>9961472.0</td>\n",
       "      <td>10000</td>\n",
       "      <td>Paid</td>\n",
       "      <td>1.20</td>\n",
       "      <td>Everyone</td>\n",
       "      <td>Puzzle</td>\n",
       "      <td>June 5, 2018</td>\n",
       "      <td>2.7</td>\n",
       "      <td>2.3 and up</td>\n",
       "      <td>Paid</td>\n",
       "    </tr>\n",
       "  </tbody>\n",
       "</table>\n",
       "<p>602 rows × 14 columns</p>\n",
       "</div>"
      ],
      "text/plain": [
       "                                                     App            Category  \\\n",
       "290        TurboScan: scan documents and receipts in PDF            Business   \n",
       "291                       Tiny Scanner Pro: PDF Doc Scan            Business   \n",
       "427                                   Puffin Browser Pro       Communication   \n",
       "481    AMBW Dating App: Asian Men Black Women Interra...              Dating   \n",
       "571                            Moco+ - Chat, Meet People              Dating   \n",
       "...                                                  ...                 ...   \n",
       "10690                                           FO Bixby     Personalization   \n",
       "10697                                            Mu.F.O.                Game   \n",
       "10760                                    Fast Tract Diet  Health and fitness   \n",
       "10782                            Trine 2: Complete Story                Game   \n",
       "10785                                       sugar, sugar              Family   \n",
       "\n",
       "       Rating  Reviews        Size  Installs  Type  Price Content Rating  \\\n",
       "290       4.7    11442   7130316.8    100000  Paid   4.99       Everyone   \n",
       "291       4.8    10295  40894464.0    100000  Paid   4.99       Everyone   \n",
       "427       4.0    18247         0.0    100000  Paid   3.99       Everyone   \n",
       "481       3.5        2  17825792.0       100  Paid   7.99     Mature 17+   \n",
       "571       4.2     1546         0.0     10000  Paid   3.99     Mature 17+   \n",
       "...       ...      ...         ...       ...   ...    ...            ...   \n",
       "10690     5.0        5    881664.0       100  Paid   0.99       Everyone   \n",
       "10697     5.0        2  16777216.0         1  Paid   0.99       Everyone   \n",
       "10760     4.4       35   2516582.4      1000  Paid   7.99       Everyone   \n",
       "10782     3.8      252  11534336.0     10000  Paid  16.99           Teen   \n",
       "10785     4.2     1405   9961472.0     10000  Paid   1.20       Everyone   \n",
       "\n",
       "                 Genres       Last Updated  Current Ver Android Ver  \\\n",
       "290            Business     March 25, 2018        1.5.2  4.0 and up   \n",
       "291            Business     April 11, 2017        3.4.6  3.0 and up   \n",
       "427       Communication       July 5, 2018  7.5.3.20547  4.1 and up   \n",
       "481              Dating   January 21, 2017        1.0.1  4.0 and up   \n",
       "571              Dating      June 19, 2018      2.6.139  4.1 and up   \n",
       "...                 ...                ...          ...         ...   \n",
       "10690   Personalization     April 25, 2018          0.2  7.0 and up   \n",
       "10697            Arcade      March 3, 2017          1.0  2.3 and up   \n",
       "10760  Health & Fitness     August 8, 2018        1.9.3  4.2 and up   \n",
       "10782            Action  February 27, 2015         2.22  5.0 and up   \n",
       "10785            Puzzle       June 5, 2018          2.7  2.3 and up   \n",
       "\n",
       "      Distribution  \n",
       "290           Paid  \n",
       "291           Paid  \n",
       "427           Paid  \n",
       "481           Paid  \n",
       "571           Paid  \n",
       "...            ...  \n",
       "10690         Paid  \n",
       "10697         Paid  \n",
       "10760         Paid  \n",
       "10782         Paid  \n",
       "10785         Paid  \n",
       "\n",
       "[602 rows x 14 columns]"
      ]
     },
     "execution_count": 91,
     "metadata": {},
     "output_type": "execute_result"
    }
   ],
   "source": [
    "# My way\n",
    "data_frame[\"Distribution\"] = \"Free\"\n",
    "data_frame.loc[data_frame[\"Price\"] != 0, \"Distribution\"] = \"Paid\"\n",
    "\n",
    "# Good way\n",
    "data_frame[\"Distribution\"] = data_frame[\"Price\"].apply(lambda p: \"Free\" if p > 0 else \"Paid\")"
   ]
  },
  {
   "cell_type": "markdown",
   "metadata": {},
   "source": [
    "# Analysis"
   ]
  },
  {
   "cell_type": "markdown",
   "metadata": {},
   "source": [
    "What app has the most reviews?"
   ]
  },
  {
   "cell_type": "code",
   "execution_count": 96,
   "metadata": {},
   "outputs": [
    {
     "data": {
      "text/html": [
       "<div>\n",
       "<style scoped>\n",
       "    .dataframe tbody tr th:only-of-type {\n",
       "        vertical-align: middle;\n",
       "    }\n",
       "\n",
       "    .dataframe tbody tr th {\n",
       "        vertical-align: top;\n",
       "    }\n",
       "\n",
       "    .dataframe thead th {\n",
       "        text-align: right;\n",
       "    }\n",
       "</style>\n",
       "<table border=\"1\" class=\"dataframe\">\n",
       "  <thead>\n",
       "    <tr style=\"text-align: right;\">\n",
       "      <th></th>\n",
       "      <th>App</th>\n",
       "      <th>Category</th>\n",
       "      <th>Rating</th>\n",
       "      <th>Reviews</th>\n",
       "      <th>Size</th>\n",
       "      <th>Installs</th>\n",
       "      <th>Type</th>\n",
       "      <th>Price</th>\n",
       "      <th>Content Rating</th>\n",
       "      <th>Genres</th>\n",
       "      <th>Last Updated</th>\n",
       "      <th>Current Ver</th>\n",
       "      <th>Android Ver</th>\n",
       "      <th>Distribution</th>\n",
       "    </tr>\n",
       "  </thead>\n",
       "  <tbody>\n",
       "    <tr>\n",
       "      <th>3943</th>\n",
       "      <td>Facebook</td>\n",
       "      <td>Social</td>\n",
       "      <td>4.1</td>\n",
       "      <td>78128208</td>\n",
       "      <td>0.0</td>\n",
       "      <td>1000000000</td>\n",
       "      <td>Free</td>\n",
       "      <td>0.0</td>\n",
       "      <td>Teen</td>\n",
       "      <td>Social</td>\n",
       "      <td>August 3, 2018</td>\n",
       "      <td>Varies with device</td>\n",
       "      <td>Varies with device</td>\n",
       "      <td>Free</td>\n",
       "    </tr>\n",
       "  </tbody>\n",
       "</table>\n",
       "</div>"
      ],
      "text/plain": [
       "           App Category  Rating   Reviews  Size    Installs  Type  Price  \\\n",
       "3943  Facebook   Social     4.1  78128208   0.0  1000000000  Free    0.0   \n",
       "\n",
       "     Content Rating  Genres    Last Updated         Current Ver  \\\n",
       "3943           Teen  Social  August 3, 2018  Varies with device   \n",
       "\n",
       "             Android Ver Distribution  \n",
       "3943  Varies with device         Free  "
      ]
     },
     "execution_count": 96,
     "metadata": {},
     "output_type": "execute_result"
    }
   ],
   "source": [
    "data_frame.sort_values(by=\"Reviews\", ascending=False).head(1)"
   ]
  },
  {
   "cell_type": "markdown",
   "metadata": {},
   "source": [
    "Wich is the category with the most uplodaded apps?"
   ]
  },
  {
   "cell_type": "code",
   "execution_count": 100,
   "metadata": {},
   "outputs": [
    {
     "data": {
      "text/plain": [
       "Category\n",
       "Family                 1681\n",
       "Game                    879\n",
       "Tools                   720\n",
       "Finance                 302\n",
       "Lifestyle               301\n",
       "Productivity            301\n",
       "Personalization         298\n",
       "Medical                 291\n",
       "Photography             263\n",
       "Business                262\n",
       "Sports                  262\n",
       "Communication           257\n",
       "Health and fitness      243\n",
       "News and magazines      204\n",
       "Social                  203\n",
       "Travel and local        187\n",
       "Shopping                180\n",
       "Books and reference     169\n",
       "Video players           148\n",
       "Dating                  133\n",
       "Maps and navigation     118\n",
       "Education               101\n",
       "Food and drink           94\n",
       "Entertainment            79\n",
       "Auto and vehicles        73\n",
       "Weather                  72\n",
       "Libraries and demo       64\n",
       "House and home           61\n",
       "Art and design           59\n",
       "Comics                   54\n",
       "Parenting                50\n",
       "Events                   45\n",
       "Beauty                   42\n",
       "Name: count, dtype: int64"
      ]
     },
     "execution_count": 100,
     "metadata": {},
     "output_type": "execute_result"
    }
   ],
   "source": [
    "data_frame.value_counts(subset=\"Category\")"
   ]
  },
  {
   "cell_type": "markdown",
   "metadata": {},
   "source": [
    "To wich category belongs the most expansive app?"
   ]
  },
  {
   "cell_type": "code",
   "execution_count": 102,
   "metadata": {},
   "outputs": [
    {
     "data": {
      "text/html": [
       "<div>\n",
       "<style scoped>\n",
       "    .dataframe tbody tr th:only-of-type {\n",
       "        vertical-align: middle;\n",
       "    }\n",
       "\n",
       "    .dataframe tbody tr th {\n",
       "        vertical-align: top;\n",
       "    }\n",
       "\n",
       "    .dataframe thead th {\n",
       "        text-align: right;\n",
       "    }\n",
       "</style>\n",
       "<table border=\"1\" class=\"dataframe\">\n",
       "  <thead>\n",
       "    <tr style=\"text-align: right;\">\n",
       "      <th></th>\n",
       "      <th>App</th>\n",
       "      <th>Category</th>\n",
       "      <th>Rating</th>\n",
       "      <th>Reviews</th>\n",
       "      <th>Size</th>\n",
       "      <th>Installs</th>\n",
       "      <th>Type</th>\n",
       "      <th>Price</th>\n",
       "      <th>Content Rating</th>\n",
       "      <th>Genres</th>\n",
       "      <th>Last Updated</th>\n",
       "      <th>Current Ver</th>\n",
       "      <th>Android Ver</th>\n",
       "      <th>Distribution</th>\n",
       "    </tr>\n",
       "  </thead>\n",
       "  <tbody>\n",
       "    <tr>\n",
       "      <th>4367</th>\n",
       "      <td>I'm Rich - Trump Edition</td>\n",
       "      <td>Lifestyle</td>\n",
       "      <td>3.6</td>\n",
       "      <td>275</td>\n",
       "      <td>7654604.8</td>\n",
       "      <td>10000</td>\n",
       "      <td>Paid</td>\n",
       "      <td>400.0</td>\n",
       "      <td>Everyone</td>\n",
       "      <td>Lifestyle</td>\n",
       "      <td>May 3, 2018</td>\n",
       "      <td>1.0.1</td>\n",
       "      <td>4.1 and up</td>\n",
       "      <td>Paid</td>\n",
       "    </tr>\n",
       "  </tbody>\n",
       "</table>\n",
       "</div>"
      ],
      "text/plain": [
       "                           App   Category  Rating  Reviews       Size  \\\n",
       "4367  I'm Rich - Trump Edition  Lifestyle     3.6      275  7654604.8   \n",
       "\n",
       "      Installs  Type  Price Content Rating     Genres Last Updated  \\\n",
       "4367     10000  Paid  400.0       Everyone  Lifestyle  May 3, 2018   \n",
       "\n",
       "     Current Ver Android Ver Distribution  \n",
       "4367       1.0.1  4.1 and up         Paid  "
      ]
     },
     "execution_count": 102,
     "metadata": {},
     "output_type": "execute_result"
    }
   ],
   "source": [
    "data_frame.sort_values(by=\"Price\", ascending=False).head(1)"
   ]
  },
  {
   "cell_type": "markdown",
   "metadata": {},
   "source": [
    "What is the name of the most expensive game?"
   ]
  },
  {
   "cell_type": "code",
   "execution_count": 106,
   "metadata": {},
   "outputs": [
    {
     "data": {
      "text/html": [
       "<div>\n",
       "<style scoped>\n",
       "    .dataframe tbody tr th:only-of-type {\n",
       "        vertical-align: middle;\n",
       "    }\n",
       "\n",
       "    .dataframe tbody tr th {\n",
       "        vertical-align: top;\n",
       "    }\n",
       "\n",
       "    .dataframe thead th {\n",
       "        text-align: right;\n",
       "    }\n",
       "</style>\n",
       "<table border=\"1\" class=\"dataframe\">\n",
       "  <thead>\n",
       "    <tr style=\"text-align: right;\">\n",
       "      <th></th>\n",
       "      <th>App</th>\n",
       "      <th>Category</th>\n",
       "      <th>Rating</th>\n",
       "      <th>Reviews</th>\n",
       "      <th>Size</th>\n",
       "      <th>Installs</th>\n",
       "      <th>Type</th>\n",
       "      <th>Price</th>\n",
       "      <th>Content Rating</th>\n",
       "      <th>Genres</th>\n",
       "      <th>Last Updated</th>\n",
       "      <th>Current Ver</th>\n",
       "      <th>Android Ver</th>\n",
       "      <th>Distribution</th>\n",
       "    </tr>\n",
       "  </thead>\n",
       "  <tbody>\n",
       "    <tr>\n",
       "      <th>4203</th>\n",
       "      <td>The World Ends With You</td>\n",
       "      <td>Game</td>\n",
       "      <td>4.6</td>\n",
       "      <td>4108</td>\n",
       "      <td>13631488.0</td>\n",
       "      <td>10000</td>\n",
       "      <td>Paid</td>\n",
       "      <td>17.99</td>\n",
       "      <td>Everyone 10+</td>\n",
       "      <td>Arcade</td>\n",
       "      <td>December 14, 2015</td>\n",
       "      <td>1.0.4</td>\n",
       "      <td>4.0 and up</td>\n",
       "      <td>Paid</td>\n",
       "    </tr>\n",
       "  </tbody>\n",
       "</table>\n",
       "</div>"
      ],
      "text/plain": [
       "                          App Category  Rating  Reviews        Size  Installs  \\\n",
       "4203  The World Ends With You     Game     4.6     4108  13631488.0     10000   \n",
       "\n",
       "      Type  Price Content Rating  Genres       Last Updated Current Ver  \\\n",
       "4203  Paid  17.99   Everyone 10+  Arcade  December 14, 2015       1.0.4   \n",
       "\n",
       "     Android Ver Distribution  \n",
       "4203  4.0 and up         Paid  "
      ]
     },
     "execution_count": 106,
     "metadata": {},
     "output_type": "execute_result"
    }
   ],
   "source": [
    "data_frame.loc[data_frame[\"Category\"] == \"Game\"].sort_values(by=\"Price\", ascending=False).head(1)"
   ]
  }
 ],
 "metadata": {
  "kernelspec": {
   "display_name": "myenv",
   "language": "python",
   "name": "python3"
  },
  "language_info": {
   "codemirror_mode": {
    "name": "ipython",
    "version": 3
   },
   "file_extension": ".py",
   "mimetype": "text/x-python",
   "name": "python",
   "nbconvert_exporter": "python",
   "pygments_lexer": "ipython3",
   "version": "3.11.6"
  }
 },
 "nbformat": 4,
 "nbformat_minor": 2
}

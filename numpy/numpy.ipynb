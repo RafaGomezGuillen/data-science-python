{
 "cells": [
  {
   "cell_type": "markdown",
   "metadata": {},
   "source": [
    "# Numpy\n"
   ]
  },
  {
   "cell_type": "code",
   "execution_count": 1,
   "metadata": {},
   "outputs": [],
   "source": [
    "import numpy as np"
   ]
  },
  {
   "cell_type": "markdown",
   "metadata": {},
   "source": [
    "## Creating Arrays\n",
    "- Single dimentional array and specif}y the type of an array `np.array([1, 2, 3], dtype=\"int\")`\n",
    "- Multi dimentional array `np.array([[1, 2, 3], [4, 5, 6]])`\n",
    "- Get the dimension `multi_array.ndim`\n",
    "- Get the shape `array.shape`\n",
    "- Get the type `multi_array.dtype`\n",
    "- Specify the type of an array `np.array([1, 2, 3, 4], dtype=\"int16\")`"
   ]
  },
  {
   "cell_type": "code",
   "execution_count": 2,
   "metadata": {},
   "outputs": [
    {
     "name": "stdout",
     "output_type": "stream",
     "text": [
      "[1 2 3 2]\n",
      "[[[1 2 3]\n",
      "  [4 5 6]\n",
      "  [7 8 9]]]\n",
      "Dimension:  3\n",
      "Shape: (4,)\n",
      "Type: int32\n",
      "int16\n"
     ]
    }
   ],
   "source": [
    "# Single dimentional array\n",
    "array = np.array([1, 2, 3])\n",
    "# Adding values\n",
    "array = np.append(array, 2)\n",
    "print(array)\n",
    "\n",
    "# Multi dimentional array\n",
    "multi_array = np.array([[1, 2, 3], [4, 5, 6], [7, 8, 9]], ndmin = 3) \n",
    "print(multi_array)\n",
    "\n",
    "# Get the dimension\n",
    "print(\"Dimension: \", multi_array.ndim)\n",
    "\n",
    "# Shape\n",
    "print(\"Shape:\", array.shape)\n",
    "\n",
    "# Type\n",
    "print(\"Type:\", multi_array.dtype)\n",
    "\n",
    "# Specify the type of an array\n",
    "array = np.array([1, 2, 3, 4], dtype=\"int16\")\n",
    "print(array.dtype)"
   ]
  },
  {
   "cell_type": "markdown",
   "metadata": {},
   "source": [
    "### Generate array\n",
    "- zero array `np.zeros(8)`\n",
    "- one array `np.ones(8)`\n",
    "- 1 to n array `np.arange(8)`\n",
    "- Any other number `np.full(<dimension>, <value>, <type>)`\n",
    "- The identity matrix `np.identity(3)`"
   ]
  },
  {
   "cell_type": "code",
   "execution_count": 3,
   "metadata": {},
   "outputs": [
    {
     "name": "stdout",
     "output_type": "stream",
     "text": [
      "Zeros: [0. 0. 0. 0. 0. 0. 0. 0.]\n",
      "Ones: [1. 1. 1. 1. 1. 1. 1. 1.]\n",
      "1 to n: [0 1 2 3 4 5 6 7]\n",
      "[10 30 50 70]\n",
      "Ones multi dimensional: [[1. 1.]\n",
      " [1. 1.]\n",
      " [1. 1.]\n",
      " [1. 1.]\n",
      " [1. 1.]\n",
      " [1. 1.]]\n",
      "Nines: [[9. 9. 9.]\n",
      " [9. 9. 9.]\n",
      " [9. 9. 9.]]\n",
      "[[1. 0. 0.]\n",
      " [0. 1. 0.]\n",
      " [0. 0. 1.]]\n"
     ]
    }
   ],
   "source": [
    "print(f\"Zeros: {np.zeros(8)}\")\n",
    "print(f\"Ones: {np.ones(8)}\")\n",
    "print(f\"1 to n: {np.arange(8)}\")\n",
    "\n",
    "# np.arange\n",
    "print(np.arange(10, 81, 20)) # np.arange(start, stop, step)\n",
    "\n",
    "# You can also create multi dimensional arrays\n",
    "print(f\"Ones multi dimensional: {np.ones((6, 2))}\")\n",
    "\n",
    "# Any other number np.full(<dimension>, <value>, <type>)\n",
    "print(f\"Nines: {np.full((3, 3), 9, dtype = 'float32')}\")\n",
    "\n",
    "# The identity matrix\n",
    "print(np.identity(3))"
   ]
  },
  {
   "cell_type": "markdown",
   "metadata": {},
   "source": [
    "### Random arrays"
   ]
  },
  {
   "cell_type": "code",
   "execution_count": 4,
   "metadata": {},
   "outputs": [
    {
     "name": "stdout",
     "output_type": "stream",
     "text": [
      "[[0.69767853 0.3672776  0.91311877 0.07740979 0.22570875 0.16612649\n",
      "  0.18482316 0.55330808 0.21952489]]\n",
      "[3 4 2 3 5 2 4 6 7]\n"
     ]
    },
    {
     "data": {
      "text/plain": [
       "array([0.80248509, 0.29414056, 0.60830507, 0.13203113])"
      ]
     },
     "execution_count": 4,
     "metadata": {},
     "output_type": "execute_result"
    }
   ],
   "source": [
    "# Random decimal numbers array\n",
    "print(np.random.rand(1, 9))\n",
    "\n",
    "# Random int numbers array. np.random.randint(<min>, <max>, <size>)\n",
    "print(np.random.randint(2, 9, 9))\n",
    "\n",
    "# Passing an array as example\n",
    "np.random.random_sample(array.shape)"
   ]
  },
  {
   "cell_type": "markdown",
   "metadata": {},
   "source": [
    "### Reshape arrays\n",
    "`array.reshape()`"
   ]
  },
  {
   "cell_type": "code",
   "execution_count": 5,
   "metadata": {},
   "outputs": [
    {
     "name": "stdout",
     "output_type": "stream",
     "text": [
      "Original array: [0 1 2 3 4 5 6 7 8 9]\n"
     ]
    },
    {
     "data": {
      "text/plain": [
       "array([[0, 1, 2, 3, 4],\n",
       "       [5, 6, 7, 8, 9]])"
      ]
     },
     "execution_count": 5,
     "metadata": {},
     "output_type": "execute_result"
    }
   ],
   "source": [
    "array = np.arange(10)\n",
    "print(f\"Original array: {array}\")\n",
    "\n",
    "array = array.reshape((2, 5))\n",
    "array"
   ]
  },
  {
   "cell_type": "markdown",
   "metadata": {},
   "source": [
    "## Data types\n",
    "[Data types documentation](https://numpy.org/doc/stable/reference/arrays.scalars.html)"
   ]
  },
  {
   "cell_type": "code",
   "execution_count": 6,
   "metadata": {},
   "outputs": [
    {
     "name": "stdout",
     "output_type": "stream",
     "text": [
      "int array: [1 2 3 5]\n",
      "bool array: [[ True False False  True]\n",
      " [False  True  True False]]\n",
      "char array: ['a' 'b' 'c']\n",
      "nan array: nan\n"
     ]
    },
    {
     "data": {
      "text/plain": [
       "True"
      ]
     },
     "execution_count": 6,
     "metadata": {},
     "output_type": "execute_result"
    }
   ],
   "source": [
    "array = np.array([1, 2, 3, 5], dtype = \"int\")\n",
    "bool_array = np.array([[1, 0, 0, 1], [0, 1, 1, 0]], dtype = np.bool_)\n",
    "char_array = np.array(['a', 'b', 'c'], dtype = np.chararray)\n",
    "nan_array = np.nan\n",
    "\n",
    "print(f\"int array: {array}\")\n",
    "print(f\"bool array: {bool_array}\")\n",
    "print(f\"char array: {char_array}\")\n",
    "print(f\"nan array: {nan_array}\")\n",
    "\n",
    "np.isnan(nan_array) # Check if the array is nan"
   ]
  },
  {
   "cell_type": "markdown",
   "metadata": {},
   "source": [
    "### Nan values"
   ]
  },
  {
   "cell_type": "code",
   "execution_count": 7,
   "metadata": {},
   "outputs": [
    {
     "name": "stdout",
     "output_type": "stream",
     "text": [
      "[nan nan nan]\n",
      "[4. 3. 2.]\n"
     ]
    }
   ],
   "source": [
    "nan_array = np.array([[4, 3], [np.nan, 2.], [np.nan, np.nan]])\n",
    "\n",
    "print(nan_array[np.isnan(nan_array)])\n",
    "print(nan_array[~np.isnan(nan_array)])"
   ]
  },
  {
   "cell_type": "markdown",
   "metadata": {},
   "source": [
    "## Accessing / Changing specific elements, rows, column, etc\n",
    "### Get a specific element"
   ]
  },
  {
   "cell_type": "code",
   "execution_count": 8,
   "metadata": {},
   "outputs": [
    {
     "data": {
      "text/plain": [
       "8"
      ]
     },
     "execution_count": 8,
     "metadata": {},
     "output_type": "execute_result"
    }
   ],
   "source": [
    "array = np.array([[1, 2, 3, 4, 5, 6, 7], [8, 9, 10, 11, 12, 13, 14]])\n",
    "array[1, 0]"
   ]
  },
  {
   "cell_type": "markdown",
   "metadata": {},
   "source": [
    "### Get a specific row"
   ]
  },
  {
   "cell_type": "code",
   "execution_count": 9,
   "metadata": {},
   "outputs": [
    {
     "name": "stdout",
     "output_type": "stream",
     "text": [
      "[1 2 3 4 5 6 7]\n",
      "[ 8  9 10 11 12 13 14]\n"
     ]
    }
   ],
   "source": [
    "print(array[0, :]) # First column \n",
    "print(array[1, :]) # Second column..."
   ]
  },
  {
   "cell_type": "markdown",
   "metadata": {},
   "source": [
    "### Get a specific column"
   ]
  },
  {
   "cell_type": "code",
   "execution_count": 10,
   "metadata": {},
   "outputs": [
    {
     "name": "stdout",
     "output_type": "stream",
     "text": [
      "[ 7 14]\n",
      "[1 8]\n"
     ]
    }
   ],
   "source": [
    "print(array[:, -1]) # Get the last column\n",
    "print(array[:, 0]) # First column"
   ]
  },
  {
   "cell_type": "markdown",
   "metadata": {},
   "source": [
    "### Getting a little more fancy \n",
    "`[row, startindex : endindex : stepindex]`"
   ]
  },
  {
   "cell_type": "code",
   "execution_count": 11,
   "metadata": {},
   "outputs": [
    {
     "data": {
      "text/plain": [
       "array([2, 4, 6])"
      ]
     },
     "execution_count": 11,
     "metadata": {},
     "output_type": "execute_result"
    }
   ],
   "source": [
    "array[0, 1: -1: 2]"
   ]
  },
  {
   "cell_type": "markdown",
   "metadata": {},
   "source": [
    "### Change value of an element"
   ]
  },
  {
   "cell_type": "code",
   "execution_count": 12,
   "metadata": {},
   "outputs": [
    {
     "name": "stdout",
     "output_type": "stream",
     "text": [
      "[[  1   2   3   4   5   6   7]\n",
      " [  8   9  10  11  12  13 100]] \n",
      "\n"
     ]
    },
    {
     "data": {
      "text/plain": [
       "array([[  8,   2,   3,   4,   5,   6,   7],\n",
       "       [  1,   9,  10,  11,  12,  13, 100]])"
      ]
     },
     "execution_count": 12,
     "metadata": {},
     "output_type": "execute_result"
    }
   ],
   "source": [
    "array[1, -1] = 100 # Last element\n",
    "print(array, \"\\n\")\n",
    "\n",
    "array[:, 0] = [8, 1] # First column\n",
    "array"
   ]
  },
  {
   "cell_type": "markdown",
   "metadata": {},
   "source": [
    "### Boolean index"
   ]
  },
  {
   "cell_type": "code",
   "execution_count": 13,
   "metadata": {},
   "outputs": [
    {
     "name": "stdout",
     "output_type": "stream",
     "text": [
      "Print true or false: [[ True  True False  True False  True False]\n",
      " [False False  True False  True False  True]]\n",
      "\n",
      "Print values: [  8   2   4   6  10  12 100]\n",
      "Print values: ['a']\n"
     ]
    }
   ],
   "source": [
    "print(f\"Print true or false: {array % 2 == 0}\\n\")\n",
    "print(f\"Print values: {array[array % 2 == 0]}\")\n",
    "print(f\"Print values: {char_array[char_array == 'a']}\")"
   ]
  },
  {
   "cell_type": "markdown",
   "metadata": {},
   "source": [
    "## Masks\n",
    "A masked array is the combination of a standard numpy.ndarray and a mask. When a mask element is False, the corresponding element in the associated array is valid and is said to be unmasked. When a mask element is True, the corresponding element in the associated array is said to be masked (invalid)."
   ]
  },
  {
   "cell_type": "code",
   "execution_count": 14,
   "metadata": {},
   "outputs": [
    {
     "data": {
      "text/plain": [
       "masked_array(data=[1, 2, 3, --, 4],\n",
       "             mask=[False, False, False,  True, False],\n",
       "       fill_value=999999)"
      ]
     },
     "execution_count": 14,
     "metadata": {},
     "output_type": "execute_result"
    }
   ],
   "source": [
    "import numpy.ma as ma\n",
    "\n",
    "array = np.array([1, 2, 3, -1, 4])\n",
    "\n",
    "# We define the negative value as invalid\n",
    "mask_array = ma.masked_array(array, mask = [0, 0, 0, 1, 0])\n",
    "mask_array"
   ]
  },
  {
   "cell_type": "code",
   "execution_count": 15,
   "metadata": {},
   "outputs": [
    {
     "data": {
      "text/plain": [
       "1"
      ]
     },
     "execution_count": 15,
     "metadata": {},
     "output_type": "execute_result"
    }
   ],
   "source": [
    "# min is 1 not -1\n",
    "mask_array.min()"
   ]
  },
  {
   "cell_type": "markdown",
   "metadata": {},
   "source": [
    "We can also define the mask directly in the array constructor of the ma module."
   ]
  },
  {
   "cell_type": "code",
   "execution_count": 16,
   "metadata": {},
   "outputs": [
    {
     "data": {
      "text/plain": [
       "masked_array(data=[1, 2, 3, --, 4],\n",
       "             mask=[False, False, False,  True, False],\n",
       "       fill_value=999999)"
      ]
     },
     "execution_count": 16,
     "metadata": {},
     "output_type": "execute_result"
    }
   ],
   "source": [
    "mask_array = ma.array([1, 2, 3, -1, 4], mask = [0, 0, 0, 1, 0])\n",
    "mask_array"
   ]
  },
  {
   "cell_type": "markdown",
   "metadata": {},
   "source": [
    "If we want to retrieve only valid values, we use the `compressed()` method"
   ]
  },
  {
   "cell_type": "code",
   "execution_count": 17,
   "metadata": {},
   "outputs": [
    {
     "data": {
      "text/plain": [
       "array([1, 2, 3, 4])"
      ]
     },
     "execution_count": 17,
     "metadata": {},
     "output_type": "execute_result"
    }
   ],
   "source": [
    "mask_array.compressed()"
   ]
  },
  {
   "cell_type": "markdown",
   "metadata": {},
   "source": [
    "I can mask or unmask all elements by assigning True or False to the entire mask"
   ]
  },
  {
   "cell_type": "code",
   "execution_count": 18,
   "metadata": {},
   "outputs": [
    {
     "data": {
      "text/plain": [
       "masked_array(data=[--, --, --, --, --],\n",
       "             mask=[ True,  True,  True,  True,  True],\n",
       "       fill_value=999999,\n",
       "            dtype=int32)"
      ]
     },
     "execution_count": 18,
     "metadata": {},
     "output_type": "execute_result"
    }
   ],
   "source": [
    "mask_array.mask = True\n",
    "mask_array"
   ]
  },
  {
   "cell_type": "code",
   "execution_count": 19,
   "metadata": {},
   "outputs": [
    {
     "data": {
      "text/plain": [
       "masked_array(data=[1, 2, 3, -1, 4],\n",
       "             mask=[False, False, False, False, False],\n",
       "       fill_value=999999)"
      ]
     },
     "execution_count": 19,
     "metadata": {},
     "output_type": "execute_result"
    }
   ],
   "source": [
    "mask_array.mask = False\n",
    "mask_array"
   ]
  },
  {
   "cell_type": "markdown",
   "metadata": {},
   "source": [
    "We can query if a value is valid with the `ma.masked` method"
   ]
  },
  {
   "cell_type": "code",
   "execution_count": 20,
   "metadata": {},
   "outputs": [
    {
     "name": "stdout",
     "output_type": "stream",
     "text": [
      "False\n",
      "True\n"
     ]
    }
   ],
   "source": [
    "mask_array.mask = [0, 0, 0, 1, 0]\n",
    "\n",
    "print(mask_array[0] is ma.masked)\n",
    "print(mask_array[3] is ma.masked)"
   ]
  },
  {
   "cell_type": "markdown",
   "metadata": {},
   "source": [
    "We can 'fill' the masked values with a specific value. `array.filled(value)`"
   ]
  },
  {
   "cell_type": "code",
   "execution_count": 21,
   "metadata": {},
   "outputs": [
    {
     "data": {
      "text/plain": [
       "array([1, 2, 3, 0, 4])"
      ]
     },
     "execution_count": 21,
     "metadata": {},
     "output_type": "execute_result"
    }
   ],
   "source": [
    "mask_array.filled(0)"
   ]
  },
  {
   "cell_type": "markdown",
   "metadata": {},
   "source": [
    "### Mask methods"
   ]
  },
  {
   "cell_type": "code",
   "execution_count": 22,
   "metadata": {},
   "outputs": [
    {
     "data": {
      "text/plain": [
       "array([ 1,  2,  3, -1,  4])"
      ]
     },
     "execution_count": 22,
     "metadata": {},
     "output_type": "execute_result"
    }
   ],
   "source": [
    "array"
   ]
  },
  {
   "cell_type": "markdown",
   "metadata": {},
   "source": [
    "Mask an array where equal to a given value. `ma.masked_equal(array, value)`"
   ]
  },
  {
   "cell_type": "code",
   "execution_count": 23,
   "metadata": {},
   "outputs": [
    {
     "data": {
      "text/plain": [
       "masked_array(data=[1, 2, 3, -1, --],\n",
       "             mask=[False, False, False, False,  True],\n",
       "       fill_value=4)"
      ]
     },
     "execution_count": 23,
     "metadata": {},
     "output_type": "execute_result"
    }
   ],
   "source": [
    "ma.masked_equal(array, 4)"
   ]
  },
  {
   "cell_type": "markdown",
   "metadata": {},
   "source": [
    "Mask an array where `not` equal to a given value. `ma.masked_not_equal(array, value)`"
   ]
  },
  {
   "cell_type": "code",
   "execution_count": 24,
   "metadata": {},
   "outputs": [
    {
     "data": {
      "text/plain": [
       "masked_array(data=[--, 2, --, --, --],\n",
       "             mask=[ True, False,  True,  True,  True],\n",
       "       fill_value=999999)"
      ]
     },
     "execution_count": 24,
     "metadata": {},
     "output_type": "execute_result"
    }
   ],
   "source": [
    "ma.masked_not_equal(array, 2)"
   ]
  },
  {
   "cell_type": "markdown",
   "metadata": {},
   "source": [
    "Mask an array where a condition is met. `ma.masked_where(condition, array)`"
   ]
  },
  {
   "cell_type": "code",
   "execution_count": 25,
   "metadata": {},
   "outputs": [
    {
     "data": {
      "text/plain": [
       "masked_array(data=[--, 2, 3, --, 4],\n",
       "             mask=[ True, False, False,  True, False],\n",
       "       fill_value=999999)"
      ]
     },
     "execution_count": 25,
     "metadata": {},
     "output_type": "execute_result"
    }
   ],
   "source": [
    "ma.masked_where(array < 2, array)"
   ]
  },
  {
   "cell_type": "markdown",
   "metadata": {},
   "source": [
    "## Dates\n",
    "`np.datetime64(\"year-month-day\")`"
   ]
  },
  {
   "cell_type": "code",
   "execution_count": 26,
   "metadata": {},
   "outputs": [
    {
     "data": {
      "text/plain": [
       "numpy.datetime64('2020-09-01')"
      ]
     },
     "execution_count": 26,
     "metadata": {},
     "output_type": "execute_result"
    }
   ],
   "source": [
    "date = np.datetime64(\"2020-09-01\")\n",
    "date"
   ]
  },
  {
   "cell_type": "markdown",
   "metadata": {},
   "source": [
    "### Dates with hour\n",
    "`np.datetime64(\"year-month-dayThour:min\")`"
   ]
  },
  {
   "cell_type": "code",
   "execution_count": 27,
   "metadata": {},
   "outputs": [
    {
     "data": {
      "text/plain": [
       "numpy.datetime64('2020-09-01T14:30')"
      ]
     },
     "execution_count": 27,
     "metadata": {},
     "output_type": "execute_result"
    }
   ],
   "source": [
    "date = np.datetime64(\"2020-09-01T14:30\")\n",
    "date"
   ]
  },
  {
   "cell_type": "markdown",
   "metadata": {},
   "source": [
    "### Creating Date Arrays\n",
    "In this case is mandatory to indicate `dtype = \"datetime64\"`"
   ]
  },
  {
   "cell_type": "code",
   "execution_count": 28,
   "metadata": {},
   "outputs": [
    {
     "data": {
      "text/plain": [
       "array(['2020-07-01', '2020-08-01', '2020-09-01'], dtype='datetime64[D]')"
      ]
     },
     "execution_count": 28,
     "metadata": {},
     "output_type": "execute_result"
    }
   ],
   "source": [
    "array = np.array(['2020-07-01', '2020-08-01', '2020-09-01'], dtype = \"datetime64\")\n",
    "array"
   ]
  },
  {
   "cell_type": "markdown",
   "metadata": {},
   "source": [
    "We can also create date arrays with the numpy iterator `np.arange(start, end, step)`"
   ]
  },
  {
   "cell_type": "code",
   "execution_count": 29,
   "metadata": {},
   "outputs": [
    {
     "data": {
      "text/plain": [
       "array(['2020-08-01', '2020-08-02', '2020-08-03', '2020-08-04',\n",
       "       '2020-08-05', '2020-08-06', '2020-08-07', '2020-08-08',\n",
       "       '2020-08-09', '2020-08-10', '2020-08-11', '2020-08-12',\n",
       "       '2020-08-13', '2020-08-14', '2020-08-15', '2020-08-16',\n",
       "       '2020-08-17', '2020-08-18', '2020-08-19', '2020-08-20',\n",
       "       '2020-08-21', '2020-08-22', '2020-08-23', '2020-08-24',\n",
       "       '2020-08-25', '2020-08-26', '2020-08-27', '2020-08-28',\n",
       "       '2020-08-29', '2020-08-30', '2020-08-31'], dtype='datetime64[D]')"
      ]
     },
     "execution_count": 29,
     "metadata": {},
     "output_type": "execute_result"
    }
   ],
   "source": [
    "np.arange('2020-08', '2020-09', dtype = 'datetime64[D]')"
   ]
  },
  {
   "cell_type": "code",
   "execution_count": 30,
   "metadata": {},
   "outputs": [
    {
     "data": {
      "text/plain": [
       "array(['2020-07-30', '2020-08-06', '2020-08-13', '2020-08-20'],\n",
       "      dtype='datetime64[W]')"
      ]
     },
     "execution_count": 30,
     "metadata": {},
     "output_type": "execute_result"
    }
   ],
   "source": [
    "np.arange('2020-08', '2020-09', dtype = 'datetime64[W]')"
   ]
  },
  {
   "cell_type": "markdown",
   "metadata": {},
   "source": [
    "### Date comparisons"
   ]
  },
  {
   "cell_type": "code",
   "execution_count": 31,
   "metadata": {},
   "outputs": [
    {
     "data": {
      "text/plain": [
       "True"
      ]
     },
     "execution_count": 31,
     "metadata": {},
     "output_type": "execute_result"
    }
   ],
   "source": [
    "np.datetime64('2020') == np.datetime64('2020-01-01')"
   ]
  },
  {
   "cell_type": "code",
   "execution_count": 32,
   "metadata": {},
   "outputs": [
    {
     "data": {
      "text/plain": [
       "True"
      ]
     },
     "execution_count": 32,
     "metadata": {},
     "output_type": "execute_result"
    }
   ],
   "source": [
    "np.datetime64('2020-03-14T11') == np.datetime64('2020-03-14T11:00:00.00')"
   ]
  },
  {
   "cell_type": "markdown",
   "metadata": {},
   "source": [
    "### Operations Dates\n",
    "The type *timedelta64* is created, which uses the same characters of 'Y', 'M', 'D', 'h', 'm', 's' for its creation."
   ]
  },
  {
   "cell_type": "code",
   "execution_count": 33,
   "metadata": {},
   "outputs": [
    {
     "data": {
      "text/plain": [
       "numpy.timedelta64(1,'W')"
      ]
     },
     "execution_count": 33,
     "metadata": {},
     "output_type": "execute_result"
    }
   ],
   "source": [
    "date = np.timedelta64(8, 'D') # 8 days is equal to 1 week\n",
    "np.timedelta64(date, 'W') # So 1 week"
   ]
  },
  {
   "cell_type": "code",
   "execution_count": 34,
   "metadata": {},
   "outputs": [
    {
     "data": {
      "text/plain": [
       "numpy.timedelta64(31,'D')"
      ]
     },
     "execution_count": 34,
     "metadata": {},
     "output_type": "execute_result"
    }
   ],
   "source": [
    "np.datetime64('2020-08-01') - np.datetime64('2020-07-01')"
   ]
  },
  {
   "cell_type": "code",
   "execution_count": 35,
   "metadata": {},
   "outputs": [
    {
     "data": {
      "text/plain": [
       "numpy.datetime64('2020-08-03T00','h')"
      ]
     },
     "execution_count": 35,
     "metadata": {},
     "output_type": "execute_result"
    }
   ],
   "source": [
    "np.datetime64('2020-08-01') + np.timedelta64(10, 'D') # Sum 10 Days\n",
    "np.datetime64('2020-08-01') - np.timedelta64(1, 'W') # Subtract 1 week\n",
    "np.datetime64('2020-08-01') + np.timedelta64(48, 'h') # Sum 48 hours"
   ]
  },
  {
   "cell_type": "markdown",
   "metadata": {},
   "source": [
    "### Business days"
   ]
  },
  {
   "cell_type": "code",
   "execution_count": 36,
   "metadata": {},
   "outputs": [
    {
     "data": {
      "text/plain": [
       "numpy.datetime64('2024-01-22')"
      ]
     },
     "execution_count": 36,
     "metadata": {},
     "output_type": "execute_result"
    }
   ],
   "source": [
    "np.busday_offset('2024-01-16', 4) # Tuesday add 4 days so it is monday instead of saturday"
   ]
  },
  {
   "cell_type": "markdown",
   "metadata": {},
   "source": [
    "### Is a day a business day \n",
    "`np.is_busday(np.datetime64(date))`"
   ]
  },
  {
   "cell_type": "code",
   "execution_count": 37,
   "metadata": {},
   "outputs": [
    {
     "name": "stdout",
     "output_type": "stream",
     "text": [
      "True\n",
      "False\n"
     ]
    }
   ],
   "source": [
    "# Thursday\n",
    "print(np.is_busday(np.datetime64('2020-09-03')))\n",
    "# Saturday\n",
    "print(np.is_busday(np.datetime64('2020-09-05')))"
   ]
  },
  {
   "cell_type": "markdown",
   "metadata": {},
   "source": [
    "### Counting business days"
   ]
  },
  {
   "cell_type": "code",
   "execution_count": 38,
   "metadata": {},
   "outputs": [
    {
     "data": {
      "text/plain": [
       "21"
      ]
     },
     "execution_count": 38,
     "metadata": {},
     "output_type": "execute_result"
    }
   ],
   "source": [
    "np.busday_count(np.datetime64('2020-09-01'), np.datetime64('2020-09-30'))"
   ]
  },
  {
   "cell_type": "markdown",
   "metadata": {},
   "source": [
    "## Maths and statistics"
   ]
  },
  {
   "cell_type": "code",
   "execution_count": 39,
   "metadata": {},
   "outputs": [
    {
     "name": "stdout",
     "output_type": "stream",
     "text": [
      "min: 1\n",
      "max of each row: [4 8]\n",
      "Sum of eeach col: [ 6  8 10 12]\n",
      "[[ 3  4  5  6]\n",
      " [ 7  8  9 10]]\n",
      "[[-1  0  1  2]\n",
      " [ 3  4  5  6]]\n",
      "[[ 2  4  6  8]\n",
      " [10 12 14 16]]\n",
      "[[0.5 1.  1.5 2. ]\n",
      " [2.5 3.  3.5 4. ]]\n",
      "[[ 0.54030231 -0.41614684 -0.9899925  -0.65364362]\n",
      " [ 0.28366219  0.96017029  0.75390225 -0.14550003]]\n"
     ]
    }
   ],
   "source": [
    "stats = np.array([[1, 2, 3, 4], [5, 6, 7, 8]])\n",
    "\n",
    "print(\"min:\", np.min(stats))\n",
    "print(\"max of each row:\", np.max(stats, axis = 1))\n",
    "print(\"Sum of eeach col:\", np.sum(stats, axis = 0))\n",
    "print(stats + 2)\n",
    "print(stats - 2)\n",
    "print(stats * 2)\n",
    "print(stats / 2)\n",
    "print(np.cos(stats))"
   ]
  },
  {
   "cell_type": "markdown",
   "metadata": {},
   "source": [
    "## Chain Operations\n",
    "\n",
    "Returns the concatenation of element strings for two str or unicode arrays.\n",
    "`np.add()`"
   ]
  },
  {
   "cell_type": "code",
   "execution_count": 40,
   "metadata": {},
   "outputs": [
    {
     "data": {
      "text/plain": [
       "array(['AD', 'BE', 'CF'], dtype='<U2')"
      ]
     },
     "execution_count": 40,
     "metadata": {},
     "output_type": "execute_result"
    }
   ],
   "source": [
    "a = np.array(['A', 'B', 'C'])\n",
    "b = np.array(['D', 'E', 'F'])\n",
    "\n",
    "np.char.add(a, b)"
   ]
  },
  {
   "cell_type": "markdown",
   "metadata": {},
   "source": [
    "multiply - Returns (a * i), i.e. multiple concatenation of strings, by elements."
   ]
  },
  {
   "cell_type": "code",
   "execution_count": 41,
   "metadata": {},
   "outputs": [
    {
     "data": {
      "text/plain": [
       "array(['AA', 'BBB', 'CCCC'], dtype='<U4')"
      ]
     },
     "execution_count": 41,
     "metadata": {},
     "output_type": "execute_result"
    }
   ],
   "source": [
    "np.char.multiply(a, [2, 3, 4])"
   ]
  },
  {
   "cell_type": "markdown",
   "metadata": {},
   "source": [
    "capitalize - Returns a copy of a with only the first character of each element uppercase."
   ]
  },
  {
   "cell_type": "code",
   "execution_count": 42,
   "metadata": {},
   "outputs": [
    {
     "data": {
      "text/plain": [
       "array(['Maria', 'Antonio', 'Francisco'], dtype='<U9')"
      ]
     },
     "execution_count": 42,
     "metadata": {},
     "output_type": "execute_result"
    }
   ],
   "source": [
    "names = np.array(['maria', 'antonio', 'francisco'])\n",
    "np.char.capitalize(names)"
   ]
  },
  {
   "cell_type": "markdown",
   "metadata": {},
   "source": [
    "replace - Returns an array after replacing the characters"
   ]
  },
  {
   "cell_type": "code",
   "execution_count": 43,
   "metadata": {},
   "outputs": [
    {
     "data": {
      "text/plain": [
       "array(['sofia', 'antonio', 'francisco'], dtype='<U9')"
      ]
     },
     "execution_count": 43,
     "metadata": {},
     "output_type": "execute_result"
    }
   ],
   "source": [
    "np.char.replace(names, 'mar', 'sof')"
   ]
  },
  {
   "cell_type": "markdown",
   "metadata": {},
   "source": [
    "split - For each element of a, returns a list of the words in the string, using sep "
   ]
  },
  {
   "cell_type": "code",
   "execution_count": 44,
   "metadata": {},
   "outputs": [
    {
     "name": "stdout",
     "output_type": "stream",
     "text": [
      "[list(['Mi', 'nombre', 'es', 'Abraham', 'Requena'])]\n"
     ]
    },
    {
     "data": {
      "text/plain": [
       "array(['hello', 'GOOD BYE', '123'], dtype='<U13')"
      ]
     },
     "execution_count": 44,
     "metadata": {},
     "output_type": "execute_result"
    }
   ],
   "source": [
    "names = np.array(['Mi nombre es Abraham Requena'])\n",
    "print(np.char.split(names, sep = ' '))\n",
    "\n",
    "names = np.array([\"   hello   \", \"    GOOD BYE \", \" 123   \"])\n",
    "names = np.char.strip(names)\n",
    "names"
   ]
  },
  {
   "cell_type": "markdown",
   "metadata": {},
   "source": [
    "### Comparisons\n",
    "- `np.char.equal(a, b)`\n",
    "- `np.char.not_equal(a, b)`\n",
    "- `np.char.startswith(arrat, prefix = value)`\n",
    "- `np.char.islower(array)`\n",
    "- `np.char.isupper(array)`\n",
    "- `np.char.isdigit(array)`"
   ]
  },
  {
   "cell_type": "code",
   "execution_count": 45,
   "metadata": {},
   "outputs": [
    {
     "name": "stdout",
     "output_type": "stream",
     "text": [
      "[False  True False]\n",
      "[ True False  True]\n",
      "[ True False False]\n",
      "[ True False False]\n",
      "[False  True False]\n",
      "[False False  True]\n"
     ]
    }
   ],
   "source": [
    "# equal / not equal - Valores iguales\n",
    "a = np.array(['A', 'B', 'C'], dtype = np.str_)\n",
    "b = np.array(['D', 'B', 'F'], dtype = np.str_)\n",
    "\n",
    "print(np.char.equal(a, b))\n",
    "print(np.char.not_equal(a, b))\n",
    "print(np.char.startswith(names, prefix = 'he'))\n",
    "print(np.char.islower(names))\n",
    "print(np.char.isupper(names))\n",
    "print(np.char.isdigit(names))"
   ]
  },
  {
   "cell_type": "markdown",
   "metadata": {},
   "source": [
    "## Load data from file"
   ]
  },
  {
   "cell_type": "code",
   "execution_count": 46,
   "metadata": {},
   "outputs": [
    {
     "name": "stdout",
     "output_type": "stream",
     "text": [
      "[[False False False False False False False False False False]\n",
      " [False  True  True  True  True  True  True  True  True  True]] \n",
      "\n",
      "[11 12 13 14] \n",
      "\n",
      "[[False False False False False False False False False False]\n",
      " [False  True  True  True  True  True  True  True  True  True]]\n"
     ]
    }
   ],
   "source": [
    "data_file = np.genfromtxt(\"data.txt\", delimiter = \",\", dtype = \"int32\")\n",
    "\n",
    "# Boolean masking\n",
    "data_boolean = data_file > 10\n",
    "print(data_boolean, \"\\n\")\n",
    "\n",
    "# Get the elements depending of a conditional\n",
    "data_indexing = data_file[(data_file > 10) & (data_file < 15)]\n",
    "print(data_indexing, \"\\n\")\n",
    "\n",
    "print(np.any([data_file > 10], axis = 0))"
   ]
  },
  {
   "cell_type": "markdown",
   "metadata": {},
   "source": [
    "## Exercises\n",
    "\n",
    "- An integer array containing only the odd numbers from 1 to 100.\n",
    "- String array with your first and last name.\n",
    "- Date array containing all days from 01 January 2020 to 04 February 2020."
   ]
  },
  {
   "cell_type": "code",
   "execution_count": 47,
   "metadata": {},
   "outputs": [],
   "source": [
    "array = np.arange(1, 100, 2)\n",
    "np.array([\"Rafael\", \"Gomez\"], dtype = np.str_)\n",
    "dates = np.arange(\"2020-01-01\", \"2020-02-04\", dtype=\"datetime64[D]\")"
   ]
  },
  {
   "cell_type": "markdown",
   "metadata": {},
   "source": [
    "Retrieves the last 10 items from the odd-numbered array"
   ]
  },
  {
   "cell_type": "code",
   "execution_count": 48,
   "metadata": {},
   "outputs": [
    {
     "data": {
      "text/plain": [
       "array([81, 83, 85, 87, 89, 91, 93, 95, 97, 99])"
      ]
     },
     "execution_count": 48,
     "metadata": {},
     "output_type": "execute_result"
    }
   ],
   "source": [
    "array[-10:]"
   ]
  },
  {
   "cell_type": "markdown",
   "metadata": {},
   "source": [
    "Cycle through the date array, and generate a new numpy array containing only business days"
   ]
  },
  {
   "cell_type": "code",
   "execution_count": 49,
   "metadata": {},
   "outputs": [
    {
     "data": {
      "text/plain": [
       "array(['2020-01-01', '2020-01-02', '2020-01-03', '2020-01-06',\n",
       "       '2020-01-07', '2020-01-08', '2020-01-09', '2020-01-10',\n",
       "       '2020-01-13', '2020-01-14', '2020-01-15', '2020-01-16',\n",
       "       '2020-01-17', '2020-01-20', '2020-01-21', '2020-01-22',\n",
       "       '2020-01-23', '2020-01-24', '2020-01-27', '2020-01-28',\n",
       "       '2020-01-29', '2020-01-30', '2020-01-31', '2020-02-03'],\n",
       "      dtype='datetime64[D]')"
      ]
     },
     "execution_count": 49,
     "metadata": {},
     "output_type": "execute_result"
    }
   ],
   "source": [
    "business_days = np.array([], dtype = \"datetime64\")\n",
    "\n",
    "for date in dates:\n",
    "  if (np.is_busday(date)):\n",
    "    business_days = np.append(business_days, date)\n",
    "\n",
    "business_days"
   ]
  },
  {
   "cell_type": "code",
   "execution_count": 50,
   "metadata": {},
   "outputs": [
    {
     "data": {
      "text/plain": [
       "masked_array(\n",
       "  data=[[--, 1, 8, 4],\n",
       "        [3, 7, 2, 1],\n",
       "        [0, 2, --, --]],\n",
       "  mask=[[ True, False, False, False],\n",
       "        [False, False, False, False],\n",
       "        [False, False,  True,  True]],\n",
       "  fill_value=999999)"
      ]
     },
     "execution_count": 50,
     "metadata": {},
     "output_type": "execute_result"
    }
   ],
   "source": [
    "matrix = np.array([[10, 1, 8, 4], [3, 7, 2, 1], [0, 2, 20, 12]])\n",
    "ma.masked_where(matrix >= 10, matrix)"
   ]
  },
  {
   "cell_type": "markdown",
   "metadata": {},
   "source": [
    "Create two dates, the first of which will be your date of birth, and the second, that of a family member or friend of yours.\n",
    "\n",
    "- What is the difference in time between the two dates?\n",
    "- What would your date of birth be if you had been born 236 hours earlier?"
   ]
  },
  {
   "cell_type": "code",
   "execution_count": 51,
   "metadata": {},
   "outputs": [
    {
     "name": "stdout",
     "output_type": "stream",
     "text": [
      "11735 days\n",
      "2003-06-14T04\n"
     ]
    }
   ],
   "source": [
    "birth_date = np.datetime64(\"2003-06-24\")\n",
    "birth_date_dad = np.datetime64(\"1971-05-08\")\n",
    "\n",
    "print(birth_date - birth_date_dad)\n",
    "print(birth_date - np.timedelta64(236, \"h\"))"
   ]
  }
 ],
 "metadata": {
  "kernelspec": {
   "display_name": "myenv",
   "language": "python",
   "name": "python3"
  },
  "language_info": {
   "codemirror_mode": {
    "name": "ipython",
    "version": 3
   },
   "file_extension": ".py",
   "mimetype": "text/x-python",
   "name": "python",
   "nbconvert_exporter": "python",
   "pygments_lexer": "ipython3",
   "version": "3.11.7"
  }
 },
 "nbformat": 4,
 "nbformat_minor": 2
}
